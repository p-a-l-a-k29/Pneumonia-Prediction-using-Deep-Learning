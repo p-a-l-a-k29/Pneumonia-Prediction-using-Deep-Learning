{
 "cells": [
  {
   "cell_type": "code",
   "execution_count": null,
   "metadata": {},
   "outputs": [],
   "source": [
    "### see if the model predicts acuurate datas"
   ]
  },
  {
   "cell_type": "code",
   "execution_count": 5,
   "metadata": {},
   "outputs": [
    {
     "name": "stdout",
     "output_type": "stream",
     "text": [
      "[[0. 1.]]\n"
     ]
    }
   ],
   "source": [
    "## Prediciting Models\n",
    "from keras.models import load_model \n",
    "from keras.preprocessing import image \n",
    "from keras.applications.vgg16 import preprocess_input \n",
    "import numpy as np \n",
    "model = load_model('trained_model.h5') \n",
    "img = image.load_img('chest_xray/val/PNEUMONIA/person1946_bacteria_4874.jpeg', target_size=(224, 224))\n",
    "x = image.img_to_array(img) \n",
    "x = np.expand_dims(x, axis=0) \n",
    "img_data = preprocess_input(x) \n",
    "classes = model.predict(img_data)\n",
    "print(classes)"
   ]
  },
  {
   "cell_type": "markdown",
   "metadata": {},
   "source": [
    "#### shows that image  belongs to second class i.e pneumonia"
   ]
  },
  {
   "cell_type": "code",
   "execution_count": 6,
   "metadata": {},
   "outputs": [
    {
     "name": "stdout",
     "output_type": "stream",
     "text": [
      "[[1. 0.]]\n"
     ]
    }
   ],
   "source": [
    "## Prediciting Models\n",
    "from keras.models import load_model \n",
    "from keras.preprocessing import image \n",
    "from keras.applications.vgg16 import preprocess_input \n",
    "import numpy as np \n",
    "model = load_model('trained_model.h5') \n",
    "img = image.load_img('chest_xray/val/NORMAL/NORMAL2-IM-1427-0001.jpeg', target_size=(224, 224))\n",
    "x = image.img_to_array(img) \n",
    "x = np.expand_dims(x, axis=0) \n",
    "img_data = preprocess_input(x) \n",
    "classes = model.predict(img_data)\n",
    "print(classes)"
   ]
  },
  {
   "cell_type": "markdown",
   "metadata": {},
   "source": [
    "#### shows that image belongs to category 1 i.e Normal"
   ]
  },
  {
   "cell_type": "code",
   "execution_count": null,
   "metadata": {},
   "outputs": [],
   "source": []
  }
 ],
 "metadata": {
  "kernelspec": {
   "display_name": "Python 3",
   "language": "python",
   "name": "python3"
  },
  "language_info": {
   "codemirror_mode": {
    "name": "ipython",
    "version": 3
   },
   "file_extension": ".py",
   "mimetype": "text/x-python",
   "name": "python",
   "nbconvert_exporter": "python",
   "pygments_lexer": "ipython3",
   "version": "3.7.3"
  }
 },
 "nbformat": 4,
 "nbformat_minor": 2
}
